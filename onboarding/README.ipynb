{
 "cells": [
  {
   "cell_type": "markdown",
   "metadata": {},
   "source": [
    "# Hack for Sweden 2019\n",
    "\n",
    "This is a _Jupyter Notebook_, viewed in [_Jupyter Lab_](https://jupyterlab.readthedocs.org), within a [_Kubernetes pod_](https://kubernetes.io) provided by a [_Jupyter Hub_](https://jupyterhub.readthedocs.org), installed using a [_Helm chart_](https://helm.sh), on [Google Cloud Platform](https://cloud.google.com/) with [Google Kubernetes Engine](https://cloud.google.com/kubernetes-engine/).\n",
    "\n",
    "- [Learn the basics of: Jupyter](https://forum.hackforsweden.se/t/speak-to-me-about-jupyter/26)\n",
    "- [Learn the basics of: Kubernetes / Helm](https://forum.hackforsweden.se/t/speak-with-me-about-kubernetes-and-helm/47)"
   ]
  },
  {
   "cell_type": "markdown",
   "metadata": {},
   "source": [
    "# Get some notebooks to work with\n",
    "\n",
    "Selecting the _code cell_ below, and pressing <kbd>Shift</kbd>+<kbd>Enter</kbd>, the code will execute on the cloud computer you are in control of.\n",
    "\n",
    "> **NOTE:** Adding an exclamation point makes the line of code a terminal command."
   ]
  },
  {
   "cell_type": "code",
   "execution_count": null,
   "metadata": {},
   "outputs": [],
   "source": [
    "# Get examples of various APIs to access open data.\n",
    "!git clone https://github.com/hack-for-sweden/open-data-examples"
   ]
  },
  {
   "cell_type": "code",
   "execution_count": null,
   "metadata": {},
   "outputs": [],
   "source": [
    "# Get the famous Python Data Science Handbook\n",
    "!git clone https://github.com/jakevdp/PythonDataScienceHandbook"
   ]
  },
  {
   "cell_type": "code",
   "execution_count": null,
   "metadata": {},
   "outputs": [],
   "source": [
    "# Get the notebooks to rerun the data analysis of the gravitational\n",
    "# wave detection that resulted in a Nobel price in Physics, and listen\n",
    "# to two black holes colliding.\n",
    "# NOTE: If you don't rerun all the cells, you cant get the audio player\n",
    "# to function.\n",
    "!git clone https://github.com/minrk/ligo-binder"
   ]
  },
  {
   "cell_type": "code",
   "execution_count": null,
   "metadata": {},
   "outputs": [],
   "source": []
  }
 ],
 "metadata": {
  "kernelspec": {
   "display_name": "Python 3",
   "language": "python",
   "name": "python3"
  },
  "language_info": {
   "codemirror_mode": {
    "name": "ipython",
    "version": 3
   },
   "file_extension": ".py",
   "mimetype": "text/x-python",
   "name": "python",
   "nbconvert_exporter": "python",
   "pygments_lexer": "ipython3",
   "version": "3.6.6"
  }
 },
 "nbformat": 4,
 "nbformat_minor": 2
}
