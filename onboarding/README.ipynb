{
 "cells": [
  {
   "cell_type": "markdown",
   "metadata": {},
   "source": [
    "# Hack for Sweden 2019\n",
    "\n",
    "This is a _Jupyter Notebook_, viewed in [_Jupyter Lab_](https://jupyterlab.readthedocs.org), within a [_Kubernetes pod_](https://kubernetes.io) provided by a [_Jupyter Hub_](https://jupyterhub.readthedocs.org), installed using a [_Helm chart_](https://helm.sh), on [Google Cloud Platform](https://cloud.google.com/) with [Google Kubernetes Engine](https://cloud.google.com/kubernetes-engine/).\n",
    "\n",
    "- [Speak with me about: Jupyter](https://forum.hackforsweden.se/t/speak-to-me-about-jupyter/26)\n",
    "- [Speak with me about: Kubernetes / Helm](https://forum.hackforsweden.se/t/speak-with-me-about-kubernetes-and-helm/47)"
   ]
  },
  {
   "cell_type": "markdown",
   "metadata": {},
   "source": [
    "# Cool stuff"
   ]
  },
  {
   "cell_type": "code",
   "execution_count": 1,
   "metadata": {},
   "outputs": [],
   "source": [
    "# API -> Graph or similar\n",
    "# git clone examples repo"
   ]
  },
  {
   "cell_type": "code",
   "execution_count": null,
   "metadata": {},
   "outputs": [],
   "source": []
  }
 ],
 "metadata": {
  "kernelspec": {
   "display_name": "Python 3",
   "language": "python",
   "name": "python3"
  },
  "language_info": {
   "codemirror_mode": {
    "name": "ipython",
    "version": 3
   },
   "file_extension": ".py",
   "mimetype": "text/x-python",
   "name": "python",
   "nbconvert_exporter": "python",
   "pygments_lexer": "ipython3",
   "version": "3.6.6"
  }
 },
 "nbformat": 4,
 "nbformat_minor": 2
}
